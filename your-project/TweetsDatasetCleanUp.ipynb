{
 "cells": [
  {
   "cell_type": "code",
   "execution_count": 9,
   "metadata": {},
   "outputs": [],
   "source": [
    "import pandas as pd\n",
    "import re"
   ]
  },
  {
   "cell_type": "code",
   "execution_count": 3,
   "metadata": {},
   "outputs": [],
   "source": [
    "tweets = pd.read_csv(\"data/realdonaldtrump.csv\")"
   ]
  },
  {
   "cell_type": "code",
   "execution_count": 7,
   "metadata": {},
   "outputs": [
    {
     "data": {
      "text/plain": [
       "'2009-05-04 13:54:25'"
      ]
     },
     "execution_count": 7,
     "metadata": {},
     "output_type": "execute_result"
    }
   ],
   "source": [
    "tweets.date[0]"
   ]
  },
  {
   "cell_type": "code",
   "execution_count": 20,
   "metadata": {},
   "outputs": [
    {
     "data": {
      "text/plain": [
       "'13:54:25'"
      ]
     },
     "execution_count": 20,
     "metadata": {},
     "output_type": "execute_result"
    }
   ],
   "source": [
    "re.findall(r\"\\d{2}:\\d{2}:\\d{2}\", tweets.date[0])[0]"
   ]
  },
  {
   "cell_type": "code",
   "execution_count": 28,
   "metadata": {},
   "outputs": [],
   "source": [
    "# Reshaping the date column into two columns : YYYY-MM-DD & HH:MM:SS\n",
    "    # To do it, I define two functions that take date and time\n",
    "    \n",
    "def date(row):\n",
    "    return re.findall(r\"\\d{4}-\\d{2}-\\d{2}\", row[\"date\"])[0]\n",
    "\n",
    "def time(row):\n",
    "    return re.findall(r\"\\d{2}:\\d{2}:\\d{2}\", row[\"date\"])[0]\n",
    "\n",
    "    # Once the functions are defined, I create the columns YYYY-MM-DD and \n",
    "    # HH:MM:SS and apply the function on the original date column to \n",
    "    # populate the new two columns\n",
    "    \n",
    "tweets['YYYY-MM-DD'] = tweets.apply(date, axis=1)\n",
    "tweets[\"HH:MM:SS\"] = tweets.apply(time, axis = 1)"
   ]
  },
  {
   "cell_type": "code",
   "execution_count": 30,
   "metadata": {},
   "outputs": [
    {
     "data": {
      "text/plain": [
       "Index(['date', 'YYYY-MM-DD', 'HH:MM:SS', 'content', 'retweets', 'favorites',\n",
       "       'mentions', 'hashtags', 'link', 'id'],\n",
       "      dtype='object')"
      ]
     },
     "execution_count": 30,
     "metadata": {},
     "output_type": "execute_result"
    }
   ],
   "source": [
    "# Once date has been separated into date and time,\n",
    "    # we have to reorder the columns\n",
    "\n",
    "tweets.columns\n",
    "\n",
    "# We will place first date, YYYY-MM-DD, HH:MM:SS, then the tweet content and\n",
    "# its interactions and finally the id and link\n",
    "\n",
    "tweets.columns = [\"date\", \"YYYY-MM-DD\", \"HH:MM:SS\", \"content\", \"retweets\", \n",
    "                  \"favorites\", \"mentions\", \"hashtags\", \"link\", \"id\"]\n",
    "tweets.columns"
   ]
  }
 ],
 "metadata": {
  "kernelspec": {
   "display_name": "Python 3",
   "language": "python",
   "name": "python3"
  },
  "language_info": {
   "codemirror_mode": {
    "name": "ipython",
    "version": 3
   },
   "file_extension": ".py",
   "mimetype": "text/x-python",
   "name": "python",
   "nbconvert_exporter": "python",
   "pygments_lexer": "ipython3",
   "version": "3.8.3"
  }
 },
 "nbformat": 4,
 "nbformat_minor": 4
}
