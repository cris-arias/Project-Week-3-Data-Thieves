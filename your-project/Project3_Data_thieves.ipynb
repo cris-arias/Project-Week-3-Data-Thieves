{
 "cells": [
  {
   "cell_type": "markdown",
   "metadata": {},
   "source": [
    "### Project instructions\n",
    "\n",
    "Your paper will be a Jupyter notebook with a combination of plots and analysis. All the plots will need to be created in Tableau.\n",
    "\n",
    "The structure should be:\n",
    "\n",
    "- Title of the project.\n",
    "- Introduction to the analysis.\n",
    "- Data used (sources, limitations, cleaning, etc...)\n",
    "- Questions you want to answer. Each question should include a graph and an answer to that question.\n",
    "- Insights derived from your analysis.\n",
    "- Possible further questions and improvements.\n",
    "- You can find some paper examples in the Resources section."
   ]
  },
  {
   "cell_type": "markdown",
   "metadata": {},
   "source": [
    "# Trumponomics?"
   ]
  },
  {
   "cell_type": "markdown",
   "metadata": {},
   "source": [
    "### Briefing (Introduction to the analysis)"
   ]
  },
  {
   "cell_type": "markdown",
   "metadata": {},
   "source": [
    "### Data structure\n",
    "\n",
    "- Dow Jones index 2017-2020 (csv)\n",
    "- Trump popularity index (approvals and disapprovals) (API)\n",
    "- Trump tweets (csv)"
   ]
  },
  {
   "cell_type": "markdown",
   "metadata": {},
   "source": [
    "### Questions\n",
    "\n",
    "- How does Wall Street affect Trump's popularity (and what does he have to say about it)?\n",
    "- How do Trump's tweets affect Wall Street?"
   ]
  },
  {
   "cell_type": "markdown",
   "metadata": {},
   "source": [
    "### Insights\n",
    "\n",
    "1. Wall Street + popularity combined graph\n",
    "2. Correlations\n",
    "3. Tweets for highs and lows: analysis\n",
    "\n",
    "02/2017\n",
    "2/2 Low: Trump says that he is planning to declare the war to Iran\n",
    "27/2 High: Meeting with US health insurance companies CEOs\n",
    "\n",
    "03/2017\n",
    "\n",
    "2018\n",
    "29/1 High: TV appearence. World Economic Forum/Davos forum: billateral relationships.\n",
    "\n",
    "- check si los días que hay low twittea más que los días que hay high (generación de ruido)\n",
    "- engagement de sus tweets aumenta desde que es presidente (prueba impacto en opinión pública)\n",
    "- "
   ]
  },
  {
   "cell_type": "markdown",
   "metadata": {},
   "source": [
    "### Further questions and improvements"
   ]
  },
  {
   "cell_type": "markdown",
   "metadata": {},
   "source": []
  },
  {
   "cell_type": "markdown",
   "metadata": {},
   "source": []
  },
  {
   "cell_type": "code",
   "execution_count": null,
   "metadata": {},
   "outputs": [],
   "source": []
  }
 ],
 "metadata": {
  "kernelspec": {
   "display_name": "Python 3",
   "language": "python",
   "name": "python3"
  },
  "language_info": {
   "codemirror_mode": {
    "name": "ipython",
    "version": 3
   },
   "file_extension": ".py",
   "mimetype": "text/x-python",
   "name": "python",
   "nbconvert_exporter": "python",
   "pygments_lexer": "ipython3",
   "version": "3.8.3"
  }
 },
 "nbformat": 4,
 "nbformat_minor": 4
}
